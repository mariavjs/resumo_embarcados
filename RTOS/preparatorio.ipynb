{
 "cells": [
  {
   "cell_type": "markdown",
   "metadata": {},
   "source": [
    "# RTOS\n",
    "*Sistema Operacional de Tempo Real (RTOS - Real-Time Operating System)*"
   ]
  },
  {
   "cell_type": "markdown",
   "metadata": {},
   "source": [
    "## TASK\n",
    "\n",
    "- toda task é uma função que não retorna e possui laço infinito (while (1))\n",
    "\n",
    "void led_1_task(void *p) {\n",
    "    gpio_init(LED_PIN_R);\n",
    "    gpio_set_dir(LED_PIN_R, GPIO_OUT);\n",
    "\n",
    "    int delay = 250;\n",
    "    while (true) {\n",
    "        gpio_put(LED_PIN_R, 1);\n",
    "        vTaskDelay(pdMS_TO_TICKS(delay));\n",
    "        gpio_put(LED_PIN_R, 0);\n",
    "        vTaskDelay(pdMS_TO_TICKS(delay));\n",
    "    }\n",
    "}\n",
    "\n",
    "**vTaskDelay():** faz com que a tarefa fique em estado de blocked (permitindo que outras tarefas utilizem a CPU) por um determinado número de ticks\n",
    "\n",
    "### Criando uma task\n",
    "\n",
    "As tasks sao criadas na main chamando a funcao xTaskCreate():\n",
    "\n",
    "int main() {\n",
    "    stdio_init_all();\n",
    "    printf(\"Start RTOS \\n\");\n",
    "    **xTaskCreate(led_1_task, \"LED_Task 1\", 256, NULL, 1, NULL);**\n",
    "    xTaskCreate(led_2_task, \"LED_Task 2\", 256, NULL, 1, NULL);\n",
    "\n",
    "    vTaskStartScheduler();\n",
    "\n",
    "    while (true)\n",
    "        ;\n",
    "}"
   ]
  }
 ],
 "metadata": {
  "language_info": {
   "name": "python"
  }
 },
 "nbformat": 4,
 "nbformat_minor": 2
}
